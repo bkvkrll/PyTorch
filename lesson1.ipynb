{
  "nbformat": 4,
  "nbformat_minor": 0,
  "metadata": {
    "colab": {
      "name": "lesson1.ipynb",
      "provenance": [],
      "authorship_tag": "ABX9TyOna2DhdQokj4GHpu0hFXOj",
      "include_colab_link": true
    },
    "kernelspec": {
      "name": "python3",
      "display_name": "Python 3"
    },
    "language_info": {
      "name": "python"
    }
  },
  "cells": [
    {
      "cell_type": "markdown",
      "metadata": {
        "id": "view-in-github",
        "colab_type": "text"
      },
      "source": [
        "<a href=\"https://colab.research.google.com/github/bkvkrll/PyTorch/blob/main/lesson1.ipynb\" target=\"_parent\"><img src=\"https://colab.research.google.com/assets/colab-badge.svg\" alt=\"Open In Colab\"/></a>"
      ]
    },
    {
      "cell_type": "code",
      "execution_count": 1,
      "metadata": {
        "colab": {
          "base_uri": "https://localhost:8080/"
        },
        "id": "VSOFSO5SpvmQ",
        "outputId": "07486639-3b7f-4a15-bca6-81ddbed78e57"
      },
      "outputs": [
        {
          "output_type": "stream",
          "name": "stdout",
          "text": [
            "Looking in indexes: https://pypi.org/simple, https://us-python.pkg.dev/colab-wheels/public/simple/\n",
            "Requirement already satisfied: torch in /usr/local/lib/python3.7/dist-packages (1.11.0+cu113)\n",
            "Requirement already satisfied: torchvision in /usr/local/lib/python3.7/dist-packages (0.12.0+cu113)\n",
            "Requirement already satisfied: typing-extensions in /usr/local/lib/python3.7/dist-packages (from torch) (4.1.1)\n",
            "Requirement already satisfied: requests in /usr/local/lib/python3.7/dist-packages (from torchvision) (2.23.0)\n",
            "Requirement already satisfied: pillow!=8.3.*,>=5.3.0 in /usr/local/lib/python3.7/dist-packages (from torchvision) (7.1.2)\n",
            "Requirement already satisfied: numpy in /usr/local/lib/python3.7/dist-packages (from torchvision) (1.21.6)\n",
            "Requirement already satisfied: certifi>=2017.4.17 in /usr/local/lib/python3.7/dist-packages (from requests->torchvision) (2022.6.15)\n",
            "Requirement already satisfied: urllib3!=1.25.0,!=1.25.1,<1.26,>=1.21.1 in /usr/local/lib/python3.7/dist-packages (from requests->torchvision) (1.24.3)\n",
            "Requirement already satisfied: chardet<4,>=3.0.2 in /usr/local/lib/python3.7/dist-packages (from requests->torchvision) (3.0.4)\n",
            "Requirement already satisfied: idna<3,>=2.5 in /usr/local/lib/python3.7/dist-packages (from requests->torchvision) (2.10)\n"
          ]
        }
      ],
      "source": [
        "!pip install torch torchvision"
      ]
    },
    {
      "cell_type": "code",
      "source": [
        "import torch\n",
        "import torchvision"
      ],
      "metadata": {
        "id": "H-s4eAEup0VJ"
      },
      "execution_count": 2,
      "outputs": []
    },
    {
      "cell_type": "code",
      "source": [
        "import numpy as np\n",
        "from torch.autograd import Variable"
      ],
      "metadata": {
        "id": "27pANQoZqKaZ"
      },
      "execution_count": 19,
      "outputs": []
    },
    {
      "cell_type": "code",
      "source": [
        "# 1. Создайте случайный FloatTensor размера 3x4x5\n",
        "tensor = torch.rand(3, 4, 5).type(torch.float32)\n",
        "\n",
        "print(tensor)"
      ],
      "metadata": {
        "colab": {
          "base_uri": "https://localhost:8080/"
        },
        "id": "2DkVzDueqM7g",
        "outputId": "b3a25ec1-08a0-4e63-eeb2-1ec26e040037"
      },
      "execution_count": 5,
      "outputs": [
        {
          "output_type": "stream",
          "name": "stdout",
          "text": [
            "tensor([[[0.3422, 0.8009, 0.9574, 0.7692, 0.7511],\n",
            "         [0.4403, 0.2422, 0.9884, 0.5316, 0.0490],\n",
            "         [0.3483, 0.7228, 0.9801, 0.7470, 0.0098],\n",
            "         [0.2926, 0.4745, 0.4889, 0.8747, 0.4645]],\n",
            "\n",
            "        [[0.2484, 0.4731, 0.0312, 0.3052, 0.3419],\n",
            "         [0.7544, 0.6170, 0.4457, 0.6215, 0.0540],\n",
            "         [0.8626, 0.4608, 0.6446, 0.3839, 0.2975],\n",
            "         [0.1289, 0.1002, 0.1687, 0.0596, 0.6504]],\n",
            "\n",
            "        [[0.6194, 0.3633, 0.6569, 0.8951, 0.8443],\n",
            "         [0.4346, 0.7948, 0.2958, 0.5252, 0.2849],\n",
            "         [0.6624, 0.7189, 0.7872, 0.5648, 0.1520],\n",
            "         [0.0476, 0.2421, 0.7556, 0.5008, 0.0342]]])\n"
          ]
        }
      ]
    },
    {
      "cell_type": "code",
      "source": [
        "# 2. Выведите его форму (shape)\n",
        "tensor.shape"
      ],
      "metadata": {
        "colab": {
          "base_uri": "https://localhost:8080/"
        },
        "id": "20VT4tHesmap",
        "outputId": "ee34f5f6-9735-4cd3-d9ea-4542212846b0"
      },
      "execution_count": 6,
      "outputs": [
        {
          "output_type": "execute_result",
          "data": {
            "text/plain": [
              "torch.Size([3, 4, 5])"
            ]
          },
          "metadata": {},
          "execution_count": 6
        }
      ]
    },
    {
      "cell_type": "code",
      "source": [
        "# 3. Приведите его к форме 6х10\n",
        "tensor = tensor.reshape(6,10)\n",
        "tensor"
      ],
      "metadata": {
        "colab": {
          "base_uri": "https://localhost:8080/"
        },
        "id": "zkaXmmbusuCt",
        "outputId": "1a2619ba-4cb8-4f3e-c1bb-70cf8637e669"
      },
      "execution_count": 12,
      "outputs": [
        {
          "output_type": "execute_result",
          "data": {
            "text/plain": [
              "tensor([[0.3422, 0.8009, 0.9574, 0.7692, 0.7511, 0.4403, 0.2422, 0.9884, 0.5316,\n",
              "         0.0490],\n",
              "        [0.3483, 0.7228, 0.9801, 0.7470, 0.0098, 0.2926, 0.4745, 0.4889, 0.8747,\n",
              "         0.4645],\n",
              "        [0.2484, 0.4731, 0.0312, 0.3052, 0.3419, 0.7544, 0.6170, 0.4457, 0.6215,\n",
              "         0.0540],\n",
              "        [0.8626, 0.4608, 0.6446, 0.3839, 0.2975, 0.1289, 0.1002, 0.1687, 0.0596,\n",
              "         0.6504],\n",
              "        [0.6194, 0.3633, 0.6569, 0.8951, 0.8443, 0.4346, 0.7948, 0.2958, 0.5252,\n",
              "         0.2849],\n",
              "        [0.6624, 0.7189, 0.7872, 0.5648, 0.1520, 0.0476, 0.2421, 0.7556, 0.5008,\n",
              "         0.0342]])"
            ]
          },
          "metadata": {},
          "execution_count": 12
        }
      ]
    },
    {
      "cell_type": "code",
      "source": [
        "# 4. Создайте случайный IntTensor размера 10\n",
        "tensor_1 =torch.IntTensor(10)\n",
        "print(tensor_1)"
      ],
      "metadata": {
        "colab": {
          "base_uri": "https://localhost:8080/"
        },
        "id": "U3TXnPnos1hc",
        "outputId": "24bd8759-288c-4ea4-c2a9-adaa99d6f036"
      },
      "execution_count": 13,
      "outputs": [
        {
          "output_type": "stream",
          "name": "stdout",
          "text": [
            "tensor([104707776,         0,  16843009,  16843009,  16843009,  16843009,\n",
            "         16843009,  16843009,  16843009,  16843009], dtype=torch.int32)\n"
          ]
        }
      ]
    },
    {
      "cell_type": "code",
      "source": [
        "# 5. Умножьте созданный FloatTensor на созданный IntTensor поэлементно\n",
        "a = tensor * tensor_1\n",
        "a\n"
      ],
      "metadata": {
        "colab": {
          "base_uri": "https://localhost:8080/"
        },
        "id": "jp8vjoq7tPZ3",
        "outputId": "099914f7-3a45-4718-b4d4-b409769282af"
      },
      "execution_count": 15,
      "outputs": [
        {
          "output_type": "execute_result",
          "data": {
            "text/plain": [
              "tensor([[35830936.0000,        0.0000, 16126125.0000, 12954927.0000,\n",
              "         12650075.0000,  7416333.5000,  4079822.5000, 16647055.0000,\n",
              "          8953736.0000,   824775.7500],\n",
              "        [36467980.0000,        0.0000, 16507511.0000, 12581649.0000,\n",
              "           165511.5156,  4927958.5000,  7991618.0000,  8234171.0000,\n",
              "         14732463.0000,  7824250.0000],\n",
              "        [26006456.0000,        0.0000,   525589.0625,  5140466.5000,\n",
              "          5759402.5000, 12706384.0000, 10392936.0000,  7506984.5000,\n",
              "         10467656.0000,   910105.0625],\n",
              "        [90322472.0000,        0.0000, 10857808.0000,  6466170.0000,\n",
              "          5010884.5000,  2171339.7500,  1687947.5000,  2840724.5000,\n",
              "          1003366.3125, 10955214.0000],\n",
              "        [64857552.0000,        0.0000, 11063460.0000, 15075420.0000,\n",
              "         14220374.0000,  7320775.5000, 13386436.0000,  4983001.5000,\n",
              "          8845634.0000,  4798207.5000],\n",
              "        [69356600.0000,        0.0000, 13258244.0000,  9513092.0000,\n",
              "          2560316.0000,   801765.8750,  4077522.5000, 12726406.0000,\n",
              "          8435259.0000,   575577.3125]])"
            ]
          },
          "metadata": {},
          "execution_count": 15
        }
      ]
    },
    {
      "cell_type": "code",
      "source": [
        "# 6. Умножьте тензор матрично на себя, чтобы результат был размерности 6x6\n",
        "# Подсказка: .dot может не подойти\n",
        "b = a @ a.T\n",
        "b"
      ],
      "metadata": {
        "colab": {
          "base_uri": "https://localhost:8080/"
        },
        "id": "PGbiaA2Pt-3U",
        "outputId": "303b0cb0-23bf-4d61-92a7-183b67b738d7"
      },
      "execution_count": 17,
      "outputs": [
        {
          "output_type": "execute_result",
          "data": {
            "text/plain": [
              "tensor([[2.3014e+15, 2.0826e+15, 1.4358e+15, 3.6469e+15, 3.1525e+15, 3.1650e+15],\n",
              "        [2.0826e+15, 2.1950e+15, 1.3915e+15, 3.7034e+15, 3.0918e+15, 3.1384e+15],\n",
              "        [1.4358e+15, 1.3915e+15, 1.1724e+15, 2.5037e+15, 2.2184e+15, 2.1113e+15],\n",
              "        [3.6469e+15, 3.7034e+15, 2.5037e+15, 8.4796e+15, 6.2610e+15, 6.5423e+15],\n",
              "        [3.1525e+15, 3.0918e+15, 2.2184e+15, 6.2610e+15, 5.1173e+15, 5.0260e+15],\n",
              "        [3.1650e+15, 3.1384e+15, 2.1113e+15, 6.5423e+15, 5.0260e+15, 5.3339e+15]])"
            ]
          },
          "metadata": {},
          "execution_count": 17
        }
      ]
    },
    {
      "cell_type": "code",
      "source": [
        "# 7. Посчитайте производную функции y = x**3 + z - 75t в точке (1, 0.5, 2)\n",
        "x = Variable(torch.FloatTensor([1, 0.5, 2]), requires_grad = True)\n",
        "y = x**3 + x - 75*x\n",
        "y.backward(x)\n",
        "print(x.grad)"
      ],
      "metadata": {
        "colab": {
          "base_uri": "https://localhost:8080/"
        },
        "id": "-ddCP8aEuKrq",
        "outputId": "2feda701-dda4-421e-92af-34ca545250a1"
      },
      "execution_count": 20,
      "outputs": [
        {
          "output_type": "stream",
          "name": "stdout",
          "text": [
            "tensor([ -71.0000,  -36.6250, -124.0000])\n"
          ]
        }
      ]
    },
    {
      "cell_type": "code",
      "source": [
        "# 8. Создайте единичный тензор размера 5x6\n",
        "ones_tensor = torch.ones((5, 6))\n",
        "\n",
        "print(ones_tensor)"
      ],
      "metadata": {
        "colab": {
          "base_uri": "https://localhost:8080/"
        },
        "id": "X9O1ocpOuyc5",
        "outputId": "234cf937-9ebb-453b-c821-dce599812254"
      },
      "execution_count": 23,
      "outputs": [
        {
          "output_type": "stream",
          "name": "stdout",
          "text": [
            "tensor([[1., 1., 1., 1., 1., 1.],\n",
            "        [1., 1., 1., 1., 1., 1.],\n",
            "        [1., 1., 1., 1., 1., 1.],\n",
            "        [1., 1., 1., 1., 1., 1.],\n",
            "        [1., 1., 1., 1., 1., 1.]])\n"
          ]
        }
      ]
    },
    {
      "cell_type": "code",
      "source": [
        "# 9. Переведите его в формат numpy\n",
        "print(ones_tensor.numpy())"
      ],
      "metadata": {
        "colab": {
          "base_uri": "https://localhost:8080/"
        },
        "id": "TXiiYnHbu77x",
        "outputId": "d6c0c5c1-23c0-4ba6-9f26-f6d09473586e"
      },
      "execution_count": 25,
      "outputs": [
        {
          "output_type": "stream",
          "name": "stdout",
          "text": [
            "[[1. 1. 1. 1. 1. 1.]\n",
            " [1. 1. 1. 1. 1. 1.]\n",
            " [1. 1. 1. 1. 1. 1.]\n",
            " [1. 1. 1. 1. 1. 1.]\n",
            " [1. 1. 1. 1. 1. 1.]]\n"
          ]
        }
      ]
    }
  ]
}